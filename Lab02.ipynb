{
 "cells": [
  {
   "cell_type": "code",
   "execution_count": 1,
   "id": "23c9ad56",
   "metadata": {},
   "outputs": [
    {
     "name": "stdout",
     "output_type": "stream",
     "text": [
      "2\n"
     ]
    }
   ],
   "source": [
    "#W1A1\n",
    "a = 7 \n",
    "b = 5 \n",
    "c = a - b \n",
    "print(c) "
   ]
  },
  {
   "cell_type": "code",
   "execution_count": 2,
   "id": "2d1e08f8",
   "metadata": {},
   "outputs": [
    {
     "name": "stdout",
     "output_type": "stream",
     "text": [
      "Thành phố:  Hà Nội  - Năm:  2025\n"
     ]
    }
   ],
   "source": [
    "#W1A2\n",
    "city = \"Hà Nội\" \n",
    "year = 2025 \n",
    "print(\"Thành phố: \", city, \" - Năm: \", year)"
   ]
  },
  {
   "cell_type": "code",
   "execution_count": 4,
   "id": "b2741950",
   "metadata": {},
   "outputs": [
    {
     "name": "stdout",
     "output_type": "stream",
     "text": [
      "10\n"
     ]
    }
   ],
   "source": [
    "#W1A3\n",
    "n = 4 \n",
    "t = 0 \n",
    "for i in range(1, n+1): \n",
    "    t += i \n",
    "print(t)"
   ]
  },
  {
   "cell_type": "code",
   "execution_count": null,
   "id": "27f2968d",
   "metadata": {},
   "outputs": [
    {
     "name": "stdout",
     "output_type": "stream",
     "text": [
      "1 là số lẻ\n",
      "2 là số chẵn\n",
      "3 là số lẻ\n",
      "4 là số chẵn\n"
     ]
    }
   ],
   "source": [
    "#W1A4\n",
    "numbers = [1, 2, 3, 4] \n",
    "for x in numbers: \n",
    "    if x % 2 == 0: \n",
    "        print(x, \"là số chẵn\") \n",
    "    else: \n",
    "        print(x, \"là số lẻ\") "
   ]
  },
  {
   "cell_type": "code",
   "execution_count": 5,
   "id": "64a922d7",
   "metadata": {},
   "outputs": [
    {
     "name": "stdout",
     "output_type": "stream",
     "text": [
      "Số phần tử trong danh sách là: 4\n"
     ]
    }
   ],
   "source": [
    "#W1A5\n",
    "animals = [\"cat\", \"dog\", \"cat\", \"bird\"] \n",
    "count = 0 \n",
    "for a in animals: \n",
    "    count += 1 \n",
    " \n",
    "print(\"Số phần tử trong danh sách là:\", count) "
   ]
  },
  {
   "cell_type": "code",
   "execution_count": 6,
   "id": "c0d2794a",
   "metadata": {},
   "outputs": [
    {
     "name": "stdout",
     "output_type": "stream",
     "text": [
      "Số lẻ\n"
     ]
    }
   ],
   "source": [
    "#W1A7\n",
    "num = int(input(\"Nhập số: \")) \n",
    "if num % 2 == 0: \n",
    "    print(\"Số chẵn\") \n",
    "else:\n",
    "    print(\"Số lẻ\") "
   ]
  },
  {
   "cell_type": "code",
   "execution_count": 7,
   "id": "3b14bfb8",
   "metadata": {},
   "outputs": [
    {
     "name": "stdout",
     "output_type": "stream",
     "text": [
      "=== AI Prediction System ===\n",
      "1) Sentiment analysis\n",
      "2) Weather forecast\n",
      "3) Exit\n",
      "Please choose an option:\n"
     ]
    }
   ],
   "source": [
    "#W1A8\n",
    "print(\"=== AI Prediction System ===\")  \n",
    "print(\"1) Sentiment analysis\")  \n",
    "print(\"2) Weather forecast\")\n",
    "print('3) Exit')  \n",
    "print(\"Please choose an option:\") "
   ]
  }
 ],
 "metadata": {
  "kernelspec": {
   "display_name": "Python 3",
   "language": "python",
   "name": "python3"
  },
  "language_info": {
   "codemirror_mode": {
    "name": "ipython",
    "version": 3
   },
   "file_extension": ".py",
   "mimetype": "text/x-python",
   "name": "python",
   "nbconvert_exporter": "python",
   "pygments_lexer": "ipython3",
   "version": "3.13.7"
  }
 },
 "nbformat": 4,
 "nbformat_minor": 5
}
