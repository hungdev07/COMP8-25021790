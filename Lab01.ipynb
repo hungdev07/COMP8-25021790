{
 "cells": [
  {
   "cell_type": "code",
   "execution_count": 1,
   "id": "1f7399d2",
   "metadata": {},
   "outputs": [
    {
     "name": "stdout",
     "output_type": "stream",
     "text": [
      "Hello World!\n"
     ]
    }
   ],
   "source": [
    "#W2A1\n",
    "print(\"Hello World!\")"
   ]
  },
  {
   "cell_type": "code",
   "execution_count": 2,
   "id": "a3b54b59",
   "metadata": {},
   "outputs": [
    {
     "name": "stdout",
     "output_type": "stream",
     "text": [
      "Hello hung\n"
     ]
    }
   ],
   "source": [
    "#W2A2\n",
    "name = input()\n",
    "print(f\"Hello {name}\")"
   ]
  },
  {
   "cell_type": "code",
   "execution_count": 4,
   "id": "1d7dfc12",
   "metadata": {},
   "outputs": [
    {
     "name": "stdout",
     "output_type": "stream",
     "text": [
      "13\n",
      "7\n",
      "30\n",
      "3\n",
      "1\n",
      "3.33\n"
     ]
    }
   ],
   "source": [
    "#W2A3\n",
    "a, b = input().split()\n",
    "a = int(a)\n",
    "b = int(b)\n",
    "print(a + b)\n",
    "print(a - b)\n",
    "print(a * b)\n",
    "print(a // b)\n",
    "print(a % b)\n",
    "print(f\"{(a / b):.2f}\")"
   ]
  },
  {
   "cell_type": "code",
   "execution_count": 5,
   "id": "931e6cf3",
   "metadata": {},
   "outputs": [
    {
     "name": "stdout",
     "output_type": "stream",
     "text": [
      "6.8\n"
     ]
    }
   ],
   "source": [
    "#W2A4\n",
    "a1, b1, c1, a2, b2, a3 = input().split()\n",
    "a1 = int(a1)\n",
    "b1 = int(b1)\n",
    "c1 = int(c1)\n",
    "a2 = int(a2)\n",
    "b2 = int(b2)\n",
    "a3 = int(a3)\n",
    "ans = ((a1+b1+c1)+(a2+b2) * 2+ a3 * 3) / 10\n",
    "print(f\"{ans:.1f}\")"
   ]
  },
  {
   "cell_type": "code",
   "execution_count": 6,
   "id": "5b2026a0",
   "metadata": {},
   "outputs": [
    {
     "name": "stdout",
     "output_type": "stream",
     "text": [
      "8\n"
     ]
    }
   ],
   "source": [
    "#W2A5\n",
    "a, b = input().split()\n",
    "a = int(a)\n",
    "b = int(b)\n",
    "print(a ** b)"
   ]
  },
  {
   "cell_type": "code",
   "execution_count": 7,
   "id": "0e9a7118",
   "metadata": {},
   "outputs": [
    {
     "name": "stdout",
     "output_type": "stream",
     "text": [
      "97\n",
      "A\n"
     ]
    }
   ],
   "source": [
    "#W2A6\n",
    "strA = input()\n",
    "print(ord(strA))\n",
    "print(strA.upper())"
   ]
  },
  {
   "cell_type": "code",
   "execution_count": 11,
   "id": "1e3b0cbb",
   "metadata": {},
   "outputs": [
    {
     "name": "stdout",
     "output_type": "stream",
     "text": [
      "512\n",
      "512\n"
     ]
    }
   ],
   "source": [
    "#W2A7\n",
    "print(((13 ** 2) * 3) + 5)\n",
    "print(13**2*3 + 5)"
   ]
  },
  {
   "cell_type": "code",
   "execution_count": 9,
   "id": "cd39e3ad",
   "metadata": {},
   "outputs": [
    {
     "name": "stdout",
     "output_type": "stream",
     "text": [
      "53.60\n"
     ]
    }
   ],
   "source": [
    "#W2A8\n",
    "n = int(input())\n",
    "print(\"{:.2f}\".format(9/5 * n + 32))"
   ]
  },
  {
   "cell_type": "code",
   "execution_count": 15,
   "id": "e5611434",
   "metadata": {},
   "outputs": [
    {
     "name": "stdout",
     "output_type": "stream",
     "text": [
      "337.60\n"
     ]
    }
   ],
   "source": [
    "#W2A9\n",
    "x = int(input())\n",
    "print(\"{:.2f}\".format(10 + 140 / 100 * x))"
   ]
  },
  {
   "cell_type": "code",
   "execution_count": 16,
   "id": "f0ed5dcd",
   "metadata": {},
   "outputs": [
    {
     "name": "stdout",
     "output_type": "stream",
     "text": [
      "Hi Helen, Alice and Bob\n"
     ]
    }
   ],
   "source": [
    "#W2A10\n",
    "s1, s2, s3 = input().split()\n",
    "print(f\"Hi {s3}, {s2} and {s1}\")"
   ]
  },
  {
   "cell_type": "code",
   "execution_count": 17,
   "id": "332ce47b",
   "metadata": {},
   "outputs": [
    {
     "name": "stdout",
     "output_type": "stream",
     "text": [
      "3600 1200\n"
     ]
    }
   ],
   "source": [
    "#W2A11\n",
    "gio, phut = input().split()\n",
    "gio = int(gio)\n",
    "phut = int(phut)\n",
    "print(gio * 3600, phut * 60)"
   ]
  },
  {
   "cell_type": "code",
   "execution_count": 21,
   "id": "cbb77d30",
   "metadata": {},
   "outputs": [
    {
     "name": "stdout",
     "output_type": "stream",
     "text": [
      "54\n"
     ]
    }
   ],
   "source": [
    "#W2A12\n",
    "n = int(input())\n",
    "print(n ** 2 * 6)"
   ]
  },
  {
   "cell_type": "code",
   "execution_count": 23,
   "id": "160da044",
   "metadata": {},
   "outputs": [
    {
     "name": "stdout",
     "output_type": "stream",
     "text": [
      "6\n"
     ]
    }
   ],
   "source": [
    "#W2A13\n",
    "a, b = input().split()\n",
    "a = int(a)\n",
    "b = int(b)\n",
    "print(a * b % 10)"
   ]
  },
  {
   "cell_type": "code",
   "execution_count": 24,
   "id": "b37235e5",
   "metadata": {},
   "outputs": [
    {
     "name": "stdout",
     "output_type": "stream",
     "text": [
      "4 3\n"
     ]
    }
   ],
   "source": [
    "#W2A14\n",
    "a, b = input().split()\n",
    "a, b = b, a\n",
    "print(a, b)"
   ]
  },
  {
   "cell_type": "code",
   "execution_count": null,
   "id": "191cbae5",
   "metadata": {},
   "outputs": [
    {
     "name": "stdout",
     "output_type": "stream",
     "text": [
      "37\n"
     ]
    }
   ],
   "source": [
    "#W2A15\n",
    "n = int(input())\n",
    "tmp = n - 1\n",
    "tong = tmp * (tmp + 1) / 2 * 3 + (tmp * 3 + 1) * (tmp * 3 + 2) / 2\n",
    "print(int(tong))\n"
   ]
  },
  {
   "cell_type": "code",
   "execution_count": 30,
   "id": "7da74d89",
   "metadata": {},
   "outputs": [
    {
     "name": "stdout",
     "output_type": "stream",
     "text": [
      "Spring\n",
      "Summer\n",
      "Autumn\n",
      "Winter\n"
     ]
    }
   ],
   "source": [
    "#W2A16\n",
    "print(\"Spring\") \n",
    "print(\"Summer\") \n",
    "print(\"Autumn\") \n",
    "print(\"Winter\") "
   ]
  },
  {
   "cell_type": "code",
   "execution_count": 31,
   "id": "2530a42c",
   "metadata": {},
   "outputs": [
    {
     "name": "stdout",
     "output_type": "stream",
     "text": [
      "*\n",
      "***\n",
      "*****\n"
     ]
    }
   ],
   "source": [
    "#W2A17\n",
    "for i in range(1, 6, 2):\n",
    "    print(\"*\" * i)"
   ]
  },
  {
   "cell_type": "code",
   "execution_count": 32,
   "id": "b47128ac",
   "metadata": {},
   "outputs": [
    {
     "name": "stdout",
     "output_type": "stream",
     "text": [
      "### ##   ### ###\n",
      " #  # #   #   # \n",
      " #  #  #  #   # \n",
      " #  # #   #   # \n",
      " #  ##    #   # \n"
     ]
    }
   ],
   "source": [
    "#W2A18\n",
    "print(\"### ##   ### ###\")\n",
    "print(\" #  # #   #   # \")\n",
    "print(\" #  #  #  #   # \")\n",
    "print(\" #  # #   #   # \")\n",
    "print(\" #  ##    #   # \")"
   ]
  },
  {
   "cell_type": "code",
   "execution_count": 33,
   "id": "c07db8df",
   "metadata": {},
   "outputs": [
    {
     "name": "stdout",
     "output_type": "stream",
     "text": [
      "Monday\n",
      "Tuesday\n",
      "Wednesday\n",
      "Thursday\n",
      "Friday\n",
      "Saturday\n",
      "Sunday\n"
     ]
    }
   ],
   "source": [
    "#W2A19\n",
    "print(\"Monday\")\n",
    "print(\"Tuesday\")\n",
    "print(\"Wednesday\")\n",
    "print(\"Thursday\")\n",
    "print(\"Friday\")\n",
    "print(\"Saturday\")\n",
    "print(\"Sunday\")"
   ]
  },
  {
   "cell_type": "code",
   "execution_count": 34,
   "id": "a1c23511",
   "metadata": {},
   "outputs": [
    {
     "name": "stdout",
     "output_type": "stream",
     "text": [
      "January\n",
      "February\n",
      "March\n",
      "April\n",
      "May\n",
      "June\n",
      "July\n",
      "August\n",
      "September\n",
      "October\n",
      "November\n",
      "December\n"
     ]
    }
   ],
   "source": [
    "#W2A20\n",
    "print(\"January\")\n",
    "print(\"February\")\n",
    "print(\"March\")\n",
    "print(\"April\")\n",
    "print(\"May\")\n",
    "print(\"June\")\n",
    "print(\"July\")\n",
    "print(\"August\")\n",
    "print(\"September\")\n",
    "print(\"October\")\n",
    "print(\"November\")\n",
    "print(\"December\")"
   ]
  },
  {
   "cell_type": "code",
   "execution_count": 35,
   "id": "38fae05a",
   "metadata": {},
   "outputs": [
    {
     "name": "stdout",
     "output_type": "stream",
     "text": [
      "Hello, world\n",
      "Hello, world\n",
      "Hello, world\n",
      "Hello, world\n",
      "Hello, world\n",
      "Hello, world\n",
      "Hello, world\n",
      "Hello, world\n",
      "Hello, world\n",
      "Hello, world\n"
     ]
    }
   ],
   "source": [
    "#W2A21\n",
    "for i in range(10):\n",
    "    print(\"Hello, world\")"
   ]
  }
 ],
 "metadata": {
  "kernelspec": {
   "display_name": "Python 3",
   "language": "python",
   "name": "python3"
  },
  "language_info": {
   "codemirror_mode": {
    "name": "ipython",
    "version": 3
   },
   "file_extension": ".py",
   "mimetype": "text/x-python",
   "name": "python",
   "nbconvert_exporter": "python",
   "pygments_lexer": "ipython3",
   "version": "3.13.7"
  }
 },
 "nbformat": 4,
 "nbformat_minor": 5
}
