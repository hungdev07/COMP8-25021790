{
 "cells": [
  {
   "cell_type": "code",
   "execution_count": 5,
   "id": "081d0234",
   "metadata": {},
   "outputs": [
    {
     "name": "stdout",
     "output_type": "stream",
     "text": [
      "1\n"
     ]
    }
   ],
   "source": [
    "#Viết một chương trình nhập vào một số nguyên n và in ra các chữ số đảo ngược nhau.\n",
    "a = input()\n",
    "b = a[::-1]\n",
    "print(b)\n"
   ]
  },
  {
   "cell_type": "code",
   "execution_count": 8,
   "id": "54707d32",
   "metadata": {},
   "outputs": [
    {
     "name": "stdout",
     "output_type": "stream",
     "text": [
      "5 4\n"
     ]
    }
   ],
   "source": [
    "#Dùng phép XOR để hoán đổi giá trị 2 biến\n",
    "a, b = input().split()\n",
    "a = int(a)\n",
    "b = int(b)\n",
    "c = a ^ b\n",
    "a = c ^ a\n",
    "b = c ^ b\n",
    "print(a, b)"
   ]
  },
  {
   "cell_type": "code",
   "execution_count": 11,
   "id": "a5e8ba14",
   "metadata": {},
   "outputs": [
    {
     "name": "stdout",
     "output_type": "stream",
     "text": [
      "False\n"
     ]
    }
   ],
   "source": [
    "#Kiểm tra có phải luỹ thừa của 2\n",
    "n = int(input())\n",
    "print(\"True\" if n & (n - 1) == 0 else \"False\")"
   ]
  },
  {
   "cell_type": "code",
   "execution_count": null,
   "id": "78683be1",
   "metadata": {},
   "outputs": [
    {
     "name": "stdout",
     "output_type": "stream",
     "text": [
      "1221\n"
     ]
    }
   ],
   "source": [
    "#chia và làm tròn xuống\n",
    "from math import floor\n",
    "a, b = map(int, input().split())\n",
    "print(floor(a / b))"
   ]
  },
  {
   "cell_type": "code",
   "execution_count": 22,
   "id": "84b807a0",
   "metadata": {},
   "outputs": [
    {
     "name": "stdout",
     "output_type": "stream",
     "text": [
      "1221\n"
     ]
    }
   ],
   "source": [
    "#chia và làm tròn lên\n",
    "from math import ceil\n",
    "a, b = map(int, input().split())\n",
    "print(ceil(a / b))"
   ]
  },
  {
   "cell_type": "code",
   "execution_count": null,
   "id": "3775bb6d",
   "metadata": {},
   "outputs": [
    {
     "name": "stdout",
     "output_type": "stream",
     "text": [
      "Even\n"
     ]
    }
   ],
   "source": [
    "#Even and Odd\n",
    "n = int(input())\n",
    "print(\"Even\" if n % 2 == 0 else \"Odd\")"
   ]
  },
  {
   "cell_type": "code",
   "execution_count": 31,
   "id": "f7055826",
   "metadata": {},
   "outputs": [
    {
     "name": "stdout",
     "output_type": "stream",
     "text": [
      "No\n"
     ]
    }
   ],
   "source": [
    "#Check negative numbers\n",
    "a = int(input())\n",
    "b = int(input())\n",
    "print(\"Yes\" if a < 0 and b < 0 else \"No\")"
   ]
  },
  {
   "cell_type": "code",
   "execution_count": 33,
   "id": "146c6931",
   "metadata": {},
   "outputs": [
    {
     "name": "stdout",
     "output_type": "stream",
     "text": [
      "True\n"
     ]
    }
   ],
   "source": [
    "#Longer string\n",
    "a = input()\n",
    "b = input()\n",
    "print(\"True\" if len(a) > len(b) else \"False\")"
   ]
  },
  {
   "cell_type": "code",
   "execution_count": 45,
   "id": "99333e59",
   "metadata": {},
   "outputs": [
    {
     "name": "stdout",
     "output_type": "stream",
     "text": [
      "No\n"
     ]
    }
   ],
   "source": [
    "#Triangle\n",
    "\n",
    "def check(a, b, c):\n",
    "    if a + b > c: \n",
    "        return True\n",
    "    \n",
    "    return False\n",
    "\n",
    "a = int(input())\n",
    "b = int(input())\n",
    "c = int(input())\n",
    "\n",
    "ans = (check(a, b, c) and check(a, c, b)) and check(c, b, a)\n",
    "print(\"No\" if ans == 0 else \"Yes\")"
   ]
  },
  {
   "cell_type": "code",
   "execution_count": 49,
   "id": "93a9a0b3",
   "metadata": {},
   "outputs": [
    {
     "name": "stdout",
     "output_type": "stream",
     "text": [
      "-1\n"
     ]
    }
   ],
   "source": [
    "#Largest number\n",
    "a = int(input())\n",
    "b = int(input())\n",
    "c = int(input())\n",
    "d = int(input())\n",
    "print(max(a, b, c, d))"
   ]
  },
  {
   "cell_type": "code",
   "execution_count": 58,
   "id": "e5f25c6f",
   "metadata": {},
   "outputs": [
    {
     "name": "stdout",
     "output_type": "stream",
     "text": [
      "Không phải tam giác\n"
     ]
    }
   ],
   "source": [
    "#Phân loại tam giác\n",
    "def check(a, b, c):\n",
    "    if a + b > c: \n",
    "        return True\n",
    "    \n",
    "    return False\n",
    "\n",
    "a, b, c = map(int, input().split())\n",
    "if (check(a, b, c) and check(c, b, a) and check(a, c, b)):\n",
    "    if a == b == c: print(\"Tam giác đều\")\n",
    "    elif a == b or b == c or c == a: print(\"Tam giác cân\")\n",
    "    else: print(\"Tam giác thường\")\n",
    "else:\n",
    "    print(\"Không phải tam giác\")\n"
   ]
  },
  {
   "cell_type": "code",
   "execution_count": 63,
   "id": "cbf173fb",
   "metadata": {},
   "outputs": [
    {
     "name": "stdout",
     "output_type": "stream",
     "text": [
      "Yes\n"
     ]
    }
   ],
   "source": [
    "#Kiểm tra năm nhuận\n",
    "n = int(input())\n",
    "if n % 4 == 0:\n",
    "    if n % 400 == 0: print(\"Yes\")\n",
    "    elif n % 100 == 0: print(\"No\")\n",
    "    else: print(\"Yes\")\n",
    "else: print(\"No\")"
   ]
  },
  {
   "cell_type": "code",
   "execution_count": 68,
   "id": "ec572bf5",
   "metadata": {},
   "outputs": [
    {
     "name": "stdout",
     "output_type": "stream",
     "text": [
      "175000\n"
     ]
    }
   ],
   "source": [
    "#Tính tiền điện\n",
    "n = int(input())\n",
    "if n <= 50: print(n * 1500)\n",
    "elif n > 50 and n <= 100: print(50 * 1500 + 2000 * (n - 50))\n",
    "else: print(50 * 1500 + 50 * 2000 + (n - 100) * 3000)"
   ]
  },
  {
   "cell_type": "code",
   "execution_count": 76,
   "id": "5ecbe09c",
   "metadata": {},
   "outputs": [
    {
     "name": "stdout",
     "output_type": "stream",
     "text": [
      "-430.87\n"
     ]
    }
   ],
   "source": [
    "#Giải phương trình bậc nhất\n",
    "a = float(input())\n",
    "b = float(input())\n",
    "if a == 0:\n",
    "    if (b == 0): print(\"Vô số nghiệm\")\n",
    "    else: print(\"Vô nghiệm\")\n",
    "else: print(\"{:.2f}\".format(-b / a))"
   ]
  },
  {
   "cell_type": "code",
   "execution_count": 81,
   "id": "8fe0aa32",
   "metadata": {},
   "outputs": [
    {
     "name": "stdout",
     "output_type": "stream",
     "text": [
      "Giỏi\n"
     ]
    }
   ],
   "source": [
    "#Xếp loại học lực\n",
    "n = float(input())\n",
    "print(\"Giỏi\" if n >= 8.0 else \"Khá\" if n < 8.0 and n >= 6.5 else \"Trung bình\" if n < 6.5 and n >= 5.0 else \"Yếu\")"
   ]
  },
  {
   "cell_type": "code",
   "execution_count": 105,
   "id": "8288266b",
   "metadata": {},
   "outputs": [
    {
     "name": "stdout",
     "output_type": "stream",
     "text": [
      "0 0 0 "
     ]
    }
   ],
   "source": [
    "#Rounding\n",
    "from math import isclose\n",
    "\n",
    "def check(s):\n",
    "    i = 0\n",
    "    while(i < len(s)):\n",
    "        if s[i] == '.': break\n",
    "        i += 1    \n",
    "    nguyen = s[0:i]\n",
    "    tp = s[i + 1:None]\n",
    "    if isclose(int(tp), 0): return [nguyen, nguyen, nguyen]\n",
    "    a = int(nguyen)\n",
    "    if a < 0:\n",
    "        if float(s) < float(nguyen + \".5\"): \n",
    "            return [a, a - 1, a - 1]\n",
    "        elif float(s) > float(nguyen + \".5\"): return [a, a - 1, a + 1]\n",
    "        else: return [a, a - 1, (a if a % 2 == 0 else a - 1)]\n",
    "    else:\n",
    "        if float(s) < float(nguyen + \".5\"): return [a + 1, a, a]\n",
    "        elif float(s) > float(nguyen + \".5\"): return [a + 1, a, a + 1]\n",
    "        else: return [a + 1, a, (a if a % 2 == 0 else a + 1)]\n",
    "\n",
    "s = input()\n",
    "li = check(s)\n",
    "for i in li:\n",
    "    print(i, end = ' ')"
   ]
  }
 ],
 "metadata": {
  "kernelspec": {
   "display_name": "Python 3",
   "language": "python",
   "name": "python3"
  },
  "language_info": {
   "codemirror_mode": {
    "name": "ipython",
    "version": 3
   },
   "file_extension": ".py",
   "mimetype": "text/x-python",
   "name": "python",
   "nbconvert_exporter": "python",
   "pygments_lexer": "ipython3",
   "version": "3.13.7"
  }
 },
 "nbformat": 4,
 "nbformat_minor": 5
}
