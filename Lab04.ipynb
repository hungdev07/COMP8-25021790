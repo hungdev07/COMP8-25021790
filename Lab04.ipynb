{
 "cells": [
  {
   "cell_type": "code",
   "execution_count": 5,
   "id": "ba842c65",
   "metadata": {},
   "outputs": [
    {
     "name": "stdout",
     "output_type": "stream",
     "text": [
      "1275\n"
     ]
    }
   ],
   "source": [
    "#W4A1\n",
    "n = int(input())\n",
    "s = 0\n",
    "for i in range(1, n + 1):\n",
    "    s += i\n",
    "print(s)"
   ]
  },
  {
   "cell_type": "code",
   "execution_count": 10,
   "id": "7e5ed224",
   "metadata": {},
   "outputs": [
    {
     "name": "stdout",
     "output_type": "stream",
     "text": [
      "False\n"
     ]
    }
   ],
   "source": [
    "#W4A2\n",
    "import math\n",
    "def check(n):\n",
    "    for i in range(2, int(math.sqrt(n)) + 1):\n",
    "        if n % i == 0:\n",
    "            return False\n",
    "    return True\n",
    "\n",
    "n = int(input())\n",
    "print(\"False\" if check(n) == False else \"True\")"
   ]
  },
  {
   "cell_type": "code",
   "execution_count": 15,
   "id": "5c01e5e2",
   "metadata": {},
   "outputs": [
    {
     "name": "stdout",
     "output_type": "stream",
     "text": [
      "3628800\n"
     ]
    }
   ],
   "source": [
    "#W4A3\n",
    "\n",
    "n = int(input())\n",
    "s = 1\n",
    "for i in range(1, n + 1):\n",
    "    s *= i\n",
    "print(s)"
   ]
  },
  {
   "cell_type": "code",
   "execution_count": 28,
   "id": "03b9a23b",
   "metadata": {},
   "outputs": [
    {
     "name": "stdout",
     "output_type": "stream",
     "text": [
      "6\n"
     ]
    }
   ],
   "source": [
    "#W4A4\n",
    "n = int(input())\n",
    "n = abs(n)\n",
    "cnt = 0\n",
    "while n > 0:\n",
    "    n /= 10\n",
    "    n = int(n)\n",
    "    cnt += 1\n",
    "print(cnt)"
   ]
  },
  {
   "cell_type": "code",
   "execution_count": 6,
   "id": "da7576ad",
   "metadata": {},
   "outputs": [
    {
     "name": "stdout",
     "output_type": "stream",
     "text": [
      "I've found the meaning of life!\n"
     ]
    }
   ],
   "source": [
    "#W4A5\n",
    "n = int(input())\n",
    "li = map(int, input().split())\n",
    "bo = 0\n",
    "for i in li:\n",
    "    if (i == 42):\n",
    "        bo = 1\n",
    "        break\n",
    "print(\"I've found the meaning of life!\" if bo == 1 else \"It's a joke!\")"
   ]
  },
  {
   "cell_type": "code",
   "execution_count": 12,
   "id": "8870dbae",
   "metadata": {},
   "outputs": [
    {
     "name": "stdout",
     "output_type": "stream",
     "text": [
      "533\n"
     ]
    }
   ],
   "source": [
    "#W4A6\n",
    "import math\n",
    "def check(n):\n",
    "    for i in range(2, int(math.sqrt(n)) + 1):\n",
    "        if n % i == 0:\n",
    "            return False\n",
    "    return n > 1\n",
    "\n",
    "a, b = map(int, input().split())\n",
    "ans = 0\n",
    "for i in range(a, b + 1):\n",
    "    if check(i):\n",
    "        ans += i\n",
    "print(ans)"
   ]
  },
  {
   "cell_type": "code",
   "execution_count": 17,
   "id": "e408ea54",
   "metadata": {},
   "outputs": [
    {
     "name": "stdout",
     "output_type": "stream",
     "text": [
      "99991\n"
     ]
    }
   ],
   "source": [
    "#W4A7\n",
    "import math\n",
    "n = int(input())\n",
    "ans = 0\n",
    "for i in range(2, int(math.sqrt(n)) + 1):\n",
    "    if n % i == 0:\n",
    "        ans = i\n",
    "        while n % i == 0:\n",
    "            n /= i\n",
    "            n = int(n)\n",
    "if n != 1: ans = n\n",
    "print(ans)"
   ]
  },
  {
   "cell_type": "code",
   "execution_count": 22,
   "id": "80f851c7",
   "metadata": {},
   "outputs": [
    {
     "name": "stdout",
     "output_type": "stream",
     "text": [
      "4 9339\n"
     ]
    }
   ],
   "source": [
    "#W4A8\n",
    "\n",
    "def check(n):\n",
    "    s = str(n)\n",
    "    s1 = s[::-1]\n",
    "    return s == s1\n",
    "\n",
    "def reve(n):\n",
    "    s = str(n)\n",
    "    s1 = s[::-1]\n",
    "    return int(s1)\n",
    "\n",
    "n = int(input())\n",
    "cnt = 0\n",
    "while check(n) == False:\n",
    "    cnt += 1\n",
    "    n = n + reve(n)\n",
    "print(cnt, n)"
   ]
  },
  {
   "cell_type": "code",
   "execution_count": 40,
   "id": "37fc3902",
   "metadata": {},
   "outputs": [
    {
     "name": "stdout",
     "output_type": "stream",
     "text": [
      "1 4 9 16 25 36 49 64 81 "
     ]
    }
   ],
   "source": [
    "#W4A9\n",
    "import math\n",
    "\n",
    "def check(n):\n",
    "    li = {\"&\"}\n",
    "    s = str(n)\n",
    "    for i in s:\n",
    "        li.add(i)\n",
    "    return len(li) - 1 == len(s)\n",
    "\n",
    "n = int(input())\n",
    "i = 1\n",
    "while i <= int(math.sqrt(n)):\n",
    "    if check(i * i):\n",
    "        print(i * i, end = ' ')\n",
    "    i += 1\n"
   ]
  },
  {
   "cell_type": "code",
   "execution_count": 53,
   "id": "fe970034",
   "metadata": {},
   "outputs": [
    {
     "name": "stdout",
     "output_type": "stream",
     "text": [
      "171 125\n"
     ]
    }
   ],
   "source": [
    "#W4A10\n",
    "mp = {1: 1}\n",
    "\n",
    "def ql(n):\n",
    "    if n in mp: \n",
    "        return mp[n]\n",
    "    if n % 2 == 0:\n",
    "        mp[n] = ql(n / 2) + 1\n",
    "    else:\n",
    "        mp[n] = ql(n * 3 + 1) + 1\n",
    "    return mp[n]\n",
    "\n",
    "n = int(input())\n",
    "ans = 0\n",
    "mx = 0\n",
    "for i in range(1, n + 1):\n",
    "    if ql(i) > mx:\n",
    "        ans = i\n",
    "        mx = ql(i)\n",
    "print(ans, mx)"
   ]
  },
  {
   "cell_type": "code",
   "execution_count": 60,
   "id": "1f02e8fb",
   "metadata": {},
   "outputs": [
    {
     "name": "stdout",
     "output_type": "stream",
     "text": [
      "12\n"
     ]
    }
   ],
   "source": [
    "#W4A11\n",
    "n = int(input())\n",
    "cnt = 0\n",
    "for i in range(2, n + 1):\n",
    "    if n % i == 0 and i % 2 == 0: cnt += 1\n",
    "print(cnt)"
   ]
  },
  {
   "cell_type": "code",
   "execution_count": 70,
   "id": "737e3913",
   "metadata": {},
   "outputs": [
    {
     "name": "stdout",
     "output_type": "stream",
     "text": [
      "10902\n"
     ]
    }
   ],
   "source": [
    "#W4A12\n",
    "x, n = map(int, input().split())\n",
    "print(int(x * (1 + 0.7 / 100) ** n))"
   ]
  },
  {
   "cell_type": "code",
   "execution_count": 76,
   "id": "d6e1c3a3",
   "metadata": {},
   "outputs": [
    {
     "name": "stdout",
     "output_type": "stream",
     "text": [
      "true\n"
     ]
    }
   ],
   "source": [
    "#W4A13\n",
    "\n",
    "def tong(n):\n",
    "    ans = 0\n",
    "    for i in range(1, n):\n",
    "        if n % i == 0:\n",
    "            ans += i\n",
    "    return ans\n",
    "\n",
    "x, y = map(int, input().split())\n",
    "print(\"true\" if tong(x) == y and tong(y) == x else \"false\")"
   ]
  },
  {
   "cell_type": "code",
   "execution_count": 81,
   "id": "a8d01a49",
   "metadata": {},
   "outputs": [
    {
     "name": "stdout",
     "output_type": "stream",
     "text": [
      "8\n"
     ]
    }
   ],
   "source": [
    "#W4A14\n",
    "import math\n",
    "\n",
    "x, y = map(int, input().split())\n",
    "print(math.gcd(x, y))"
   ]
  },
  {
   "cell_type": "code",
   "execution_count": 88,
   "id": "cb79be07",
   "metadata": {},
   "outputs": [
    {
     "name": "stdout",
     "output_type": "stream",
     "text": [
      "119 1\n"
     ]
    }
   ],
   "source": [
    "#W4A15\n",
    "x, y = map(int, input().split())\n",
    "\n",
    "if (y - 2 * x) % 2 == 0:\n",
    "    b = int((y - 2 * x) / 2)\n",
    "    print(x - b, b)\n",
    "else:\n",
    "    print(\"invalid\")"
   ]
  },
  {
   "cell_type": "code",
   "execution_count": 89,
   "id": "02b2a1a0",
   "metadata": {},
   "outputs": [
    {
     "name": "stdout",
     "output_type": "stream",
     "text": [
      "6\n",
      "12\n",
      "18\n",
      "24\n",
      "30\n",
      "36\n",
      "42\n",
      "48\n",
      "54\n",
      "60\n",
      "66\n",
      "72\n",
      "78\n",
      "84\n",
      "90\n",
      "96\n"
     ]
    }
   ],
   "source": [
    "#W4A16\n",
    "for i in range(1, 100):\n",
    "    if i % 2 == 0 and i % 3 == 0:\n",
    "        print(i)"
   ]
  },
  {
   "cell_type": "code",
   "execution_count": 90,
   "id": "20d30a84",
   "metadata": {},
   "outputs": [
    {
     "name": "stdout",
     "output_type": "stream",
     "text": [
      "2 * 1 = 2\n",
      "2 * 2 = 4\n",
      "2 * 3 = 6\n",
      "2 * 4 = 8\n",
      "2 * 5 = 10\n",
      "2 * 6 = 12\n",
      "2 * 7 = 14\n",
      "2 * 8 = 16\n",
      "2 * 9 = 18\n",
      "2 * 10 = 20\n"
     ]
    }
   ],
   "source": [
    "#W4A17\n",
    "a = int(input())\n",
    "for i in range(1, 11):\n",
    "    print(f\"{a} * {i} = {a * i}\")"
   ]
  },
  {
   "cell_type": "code",
   "execution_count": null,
   "id": "59017e4a",
   "metadata": {},
   "outputs": [
    {
     "name": "stdout",
     "output_type": "stream",
     "text": [
      "1\n",
      "2\n"
     ]
    }
   ],
   "source": [
    "#W4A18\n",
    "a, b = map(int, input().split())\n",
    "for i in range(1, min(a, b) + 1):\n",
    "    if a % i == 0 and b % i == 0:\n",
    "        print(i)"
   ]
  },
  {
   "cell_type": "code",
   "execution_count": 93,
   "id": "c65a0e1a",
   "metadata": {},
   "outputs": [
    {
     "name": "stdout",
     "output_type": "stream",
     "text": [
      "2 4 6 8 10 12 14 16 18 20 "
     ]
    }
   ],
   "source": [
    "#W4A19\n",
    "n = int(input())\n",
    "for i in range(1, n + 1):\n",
    "    if i % 2 == 0:\n",
    "        print(i, end = \" \")"
   ]
  },
  {
   "cell_type": "code",
   "execution_count": 95,
   "id": "e17f15a8",
   "metadata": {},
   "outputs": [
    {
     "name": "stdout",
     "output_type": "stream",
     "text": [
      "False\n"
     ]
    }
   ],
   "source": [
    "#W4A20\n",
    "n = int(input())\n",
    "print(\"True\" if n & (n - 1) == 0 else \"False\")"
   ]
  },
  {
   "cell_type": "code",
   "execution_count": 96,
   "id": "6056e7ba",
   "metadata": {},
   "outputs": [
    {
     "name": "stdout",
     "output_type": "stream",
     "text": [
      "4\n"
     ]
    }
   ],
   "source": [
    "#W4A21\n",
    "n = int(input())\n",
    "ans = 0\n",
    "while n > 0:\n",
    "    ans += n % 10\n",
    "    n = int(n / 10)\n",
    "print(ans)"
   ]
  },
  {
   "cell_type": "code",
   "execution_count": 97,
   "id": "0c671765",
   "metadata": {},
   "outputs": [
    {
     "name": "stdout",
     "output_type": "stream",
     "text": [
      "Số chữ số chẵn: 2, số chữ số lẻ: 1\n"
     ]
    }
   ],
   "source": [
    "#W4A22\n",
    "n = int(input())\n",
    "chan = 0\n",
    "le = 0\n",
    "while n > 0:\n",
    "    a = n % 10\n",
    "    if a % 2 == 0: chan += 1\n",
    "    else: le += 1\n",
    "    n = int(n / 10)\n",
    "print(f\"Số chữ số chẵn: {chan}, số chữ số lẻ: {le}\")"
   ]
  },
  {
   "cell_type": "code",
   "execution_count": 100,
   "id": "2cff7a6d",
   "metadata": {},
   "outputs": [
    {
     "name": "stdout",
     "output_type": "stream",
     "text": [
      "3\n"
     ]
    }
   ],
   "source": [
    "#W4A23\n",
    "n = int(input())\n",
    "k = 1\n",
    "while int(k * (k + 1) / 2) < n:\n",
    "    k += 1\n",
    "print(k - 1)\n",
    "    "
   ]
  },
  {
   "cell_type": "code",
   "execution_count": 102,
   "id": "b21f50c2",
   "metadata": {},
   "outputs": [
    {
     "name": "stdout",
     "output_type": "stream",
     "text": [
      "11\n"
     ]
    }
   ],
   "source": [
    "#W4A24\n",
    "n = int(input())\n",
    "k = 1\n",
    "ans = 0\n",
    "while True:\n",
    "    ans += 1 / k\n",
    "    if ans > n: break\n",
    "    k += 1\n",
    "print(k)"
   ]
  },
  {
   "cell_type": "code",
   "execution_count": 103,
   "id": "652f4c9b",
   "metadata": {},
   "outputs": [
    {
     "name": "stdout",
     "output_type": "stream",
     "text": [
      "4 2\n"
     ]
    }
   ],
   "source": [
    "#W4A25\n",
    "numbers = []\n",
    "\n",
    "while True:\n",
    "    n = int(input())\n",
    "    if n == -1:\n",
    "        break\n",
    "    numbers.append(n)\n",
    "\n",
    "print(max(numbers), min(numbers))"
   ]
  },
  {
   "cell_type": "code",
   "execution_count": 105,
   "id": "fda991f4",
   "metadata": {},
   "outputs": [
    {
     "name": "stdout",
     "output_type": "stream",
     "text": [
      "13\n"
     ]
    }
   ],
   "source": [
    "#W4A26\n",
    "n = int(input())\n",
    "\n",
    "li = [1, 1]\n",
    "while li[-1] <= n:\n",
    "    sz = len(li)\n",
    "    li.append(li[sz - 1] + li[sz - 2])\n",
    "\n",
    "print(li[len(li) - 2])"
   ]
  },
  {
   "cell_type": "code",
   "execution_count": 107,
   "id": "97a7df3f",
   "metadata": {},
   "outputs": [
    {
     "name": "stdout",
     "output_type": "stream",
     "text": [
      "5\n"
     ]
    }
   ],
   "source": [
    "#W4A27\n",
    "s = input()\n",
    "cnt = 0\n",
    "for i in s:\n",
    "    if (i >= 'a' and i <= 'z') or (i >= 'A' and i <= 'Z') or i == ' ':\n",
    "        cnt += 1\n",
    "print(cnt)"
   ]
  },
  {
   "cell_type": "code",
   "execution_count": 109,
   "id": "c34fb33c",
   "metadata": {},
   "outputs": [
    {
     "name": "stdout",
     "output_type": "stream",
     "text": [
      "abc"
     ]
    }
   ],
   "source": [
    "#W4A28\n",
    "s = input()\n",
    "for i in s:\n",
    "    if i == ' ': break\n",
    "    print(i, end = '')"
   ]
  },
  {
   "cell_type": "code",
   "execution_count": 112,
   "id": "637be944",
   "metadata": {},
   "outputs": [
    {
     "name": "stdout",
     "output_type": "stream",
     "text": [
      "30\n"
     ]
    }
   ],
   "source": [
    "#W4A29\n",
    "li = input().split(', ')\n",
    "ans = 0\n",
    "for i in li:\n",
    "    ans += int(i)\n",
    "print(ans)"
   ]
  },
  {
   "cell_type": "code",
   "execution_count": 113,
   "id": "90b38a03",
   "metadata": {},
   "outputs": [
    {
     "name": "stdout",
     "output_type": "stream",
     "text": [
      "Ký tự thường: 2\n",
      "Ký tự hoa: 1\n",
      "Ký tự số: 2\n"
     ]
    }
   ],
   "source": [
    "#W4A30\n",
    "s = input()\n",
    "hoa = 0\n",
    "thuong = 0\n",
    "so = 0\n",
    "for i in s:\n",
    "    if i.islower() == True:\n",
    "        thuong += 1\n",
    "    elif i.isupper() == True:\n",
    "        hoa += 1\n",
    "    else: so += 1\n",
    "print(f\"Ký tự thường: {thuong}\\nKý tự hoa: {hoa}\\nKý tự số: {so}\")"
   ]
  },
  {
   "cell_type": "code",
   "execution_count": 114,
   "id": "fc4646f5",
   "metadata": {},
   "outputs": [
    {
     "name": "stdout",
     "output_type": "stream",
     "text": [
      "24\n"
     ]
    }
   ],
   "source": [
    "#W4A31\n",
    "s = input()\n",
    "ans = 0\n",
    "for i in s:\n",
    "    if i.isdigit() == True:\n",
    "        ans += int(i)\n",
    "print(ans)"
   ]
  },
  {
   "cell_type": "code",
   "execution_count": 116,
   "id": "011e81e7",
   "metadata": {},
   "outputs": [
    {
     "name": "stdout",
     "output_type": "stream",
     "text": [
      "Mật khẩu không mạnh\n"
     ]
    }
   ],
   "source": [
    "#W4A32\n",
    "s = input()\n",
    "hoa = 0\n",
    "thuong = 0\n",
    "so = 0\n",
    "db = 0\n",
    "for i in s:\n",
    "    if i.islower() == True:\n",
    "        thuong += 1\n",
    "    elif i.isupper() == True:\n",
    "        hoa += 1\n",
    "    elif i.isdigit() == True: \n",
    "        so += 1\n",
    "    else: db += 1\n",
    "if (thuong >= 1 and thuong >= 1 and hoa >= 1 and so >= 1 and len(s) > 6): \n",
    "    print(\"Mật khẩu mạnh\")\n",
    "else: \n",
    "    print(\"Mật khẩu không mạnh\")"
   ]
  },
  {
   "cell_type": "code",
   "execution_count": 129,
   "id": "de3a13ef",
   "metadata": {},
   "outputs": [
    {
     "name": "stdout",
     "output_type": "stream",
     "text": [
      "1.375.469.485\n"
     ]
    }
   ],
   "source": [
    "#W4A33\n",
    "s = input()\n",
    "\n",
    "s = s[::-1]\n",
    "ss = \"\"\n",
    "for i in range(0, len(s)):\n",
    "    if i % 3 == 0 and i != 0:\n",
    "        ss += \".\" + s[i]\n",
    "    else: ss += s[i]\n",
    "ss = ss[::-1]\n",
    "print(ss)"
   ]
  },
  {
   "cell_type": "code",
   "execution_count": 8,
   "id": "44f41844",
   "metadata": {},
   "outputs": [
    {
     "name": "stdout",
     "output_type": "stream",
     "text": [
      " mọi người!\n"
     ]
    }
   ],
   "source": [
    "#W4A34\n",
    "a = input()\n",
    "b = input()\n",
    "s = \"\"\n",
    "i = 0\n",
    "while i < len(a):\n",
    "    if b == a[i:i + len(b)]:\n",
    "        i += len(b)\n",
    "    else: \n",
    "        s += a[i]\n",
    "        i += 1\n",
    "\n",
    "print(s)\n",
    "\n"
   ]
  }
 ],
 "metadata": {
  "kernelspec": {
   "display_name": "Python 3",
   "language": "python",
   "name": "python3"
  },
  "language_info": {
   "codemirror_mode": {
    "name": "ipython",
    "version": 3
   },
   "file_extension": ".py",
   "mimetype": "text/x-python",
   "name": "python",
   "nbconvert_exporter": "python",
   "pygments_lexer": "ipython3",
   "version": "3.13.7"
  }
 },
 "nbformat": 4,
 "nbformat_minor": 5
}
